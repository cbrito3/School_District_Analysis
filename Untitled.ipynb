{
 "cells": [
  {
   "cell_type": "code",
   "execution_count": 2,
   "id": "7cd7087c",
   "metadata": {},
   "outputs": [],
   "source": [
    "#4.9.3 Object Oriented Programming\n",
    "#Object-oriented programming (OOP) is a way of organizing information in programming. It is based on the concepts of classes and objects. Imagine a mold for a toy car at a toy factory. The mold can be used to create identical toy cars, but each car is a separate object. If a child places a sticker on one particular car, for example, only that car will have the sticker. In object-oriented programming, the class is like the mold, and the object is like a particular toy car.\n",
    "#Let's take a look at an example of a class and objects in Python. To create a class called Cat, let's try the following code.\n",
    "\n",
    "class Cat:\n",
    "    def __init__(self, name):\n",
    "        self.name = name"
   ]
  },
  {
   "cell_type": "code",
   "execution_count": 3,
   "id": "54cf56e6",
   "metadata": {},
   "outputs": [
    {
     "name": "stdout",
     "output_type": "stream",
     "text": [
      "Felix\n"
     ]
    }
   ],
   "source": [
    "#In this example, the keyword class is used to create a class. Then, the __init__ method is a special method called a \"class constructor\" \n",
    "#that Python calls every time a new instance of the class is created. This method takes two arguments: self and name. The self argument refers to a specific Cat object that is created when this method is called. The second argument, name, will be specified each time a new Cat object is created. Let's look at how to do this.\n",
    "\n",
    "first_cat = Cat('Felix')\n",
    "print(first_cat.name)"
   ]
  },
  {
   "cell_type": "code",
   "execution_count": 4,
   "id": "ab3fa265",
   "metadata": {},
   "outputs": [],
   "source": [
    "#Here, an object whose name is Felix is created, or instantiated. Since it is assigned to the variable first_cat, first_cat.name returns Felix. \n",
    "#Pay attention to the dot notation in this example. The name attribute does not belong to all Cat objects; it belongs to the specific Cat object called first_cat.\n",
    "#SKILL DRILL\n",
    "#Create another object of the Cat class. Its name should be Garfield, and the object should be assigned to the variable second_cat. What does second_cat.name return?"
   ]
  },
  {
   "cell_type": "code",
   "execution_count": 5,
   "id": "8da5a542",
   "metadata": {},
   "outputs": [],
   "source": [
    "class Dog:\n",
    "    def __init__(self, name, color, sound):\n",
    "        self.name = name\n",
    "        self.color = color\n",
    "        self.sound = sound\n",
    "\n",
    "    def bark(self):\n",
    "        return self.sound + ' ' + self.sound"
   ]
  },
  {
   "cell_type": "code",
   "execution_count": 6,
   "id": "3f549b23",
   "metadata": {},
   "outputs": [
    {
     "name": "stdout",
     "output_type": "stream",
     "text": [
      "Fido\n",
      "brown\n"
     ]
    },
    {
     "data": {
      "text/plain": [
       "'woof! woof!'"
      ]
     },
     "execution_count": 6,
     "metadata": {},
     "output_type": "execute_result"
    }
   ],
   "source": [
    "first_dog = Dog('Fido', 'brown', 'woof!')\n",
    "print(    first_dog.name)\n",
    "print(first_dog.color)\n",
    "first_dog.bark()"
   ]
  },
  {
   "cell_type": "code",
   "execution_count": 7,
   "id": "6c75e5ba",
   "metadata": {},
   "outputs": [],
   "source": [
    "#The first_dog's bark method returns the first_dog's sound property twice: because the sound property is woof! for this object, calling the bark method returns woof! woof!.\n",
    "#SKILL DRILL\n",
    "#Instantiate another object of the Dog class. Its name should be Lady, its color should be blonde, and its sound should be arf!. The object should be assigned to the variable second_dog. Call this object's bark method.\n",
    "#End of text box.\n",
    "#In a nutshell, object-oriented programming uses classes and objects to organize information: an object can hold attributes, and it can also run functions. \n",
    "#When a function is associated with an object, it is called a method. If an object's attributes are like its adjectives and nouns (\"color\" and \"name\" for example), then its methods are like its verbs (\"bark\").\n"
   ]
  },
  {
   "cell_type": "code",
   "execution_count": 9,
   "id": "dcc83e8f",
   "metadata": {},
   "outputs": [],
   "source": [
    "#Finally, remember that if you wanted to preview a Pandas DataFrame called df, you would call its head method.\n",
    "\n",
    "#df.head()"
   ]
  },
  {
   "cell_type": "code",
   "execution_count": null,
   "id": "f7395344",
   "metadata": {},
   "outputs": [],
   "source": []
  }
 ],
 "metadata": {
  "kernelspec": {
   "display_name": "PythonData",
   "language": "python",
   "name": "pythondata"
  },
  "language_info": {
   "codemirror_mode": {
    "name": "ipython",
    "version": 3
   },
   "file_extension": ".py",
   "mimetype": "text/x-python",
   "name": "python",
   "nbconvert_exporter": "python",
   "pygments_lexer": "ipython3",
   "version": "3.9.12"
  }
 },
 "nbformat": 4,
 "nbformat_minor": 5
}
